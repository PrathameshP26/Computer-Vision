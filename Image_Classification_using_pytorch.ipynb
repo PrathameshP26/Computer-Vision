{
 "cells": [
  {
   "cell_type": "code",
   "execution_count": 1,
   "metadata": {},
   "outputs": [],
   "source": [
    "import numpy as np\n",
    "import matplotlib.pyplot as plt\n",
    "\n",
    "#importing pytorch libraries\n",
    "\n",
    "import torch #The torch library is the PyTorch package.\n",
    "import torchvision #torchvision for loading popular data sets\n",
    "import torchvision.transforms as transforms #for performing transformation on the image data\n",
    "import torch.nn as nn #is for defining the neural network\n",
    "import torch.functional as f # for importing functions like Relu\n",
    "import torch.optim as optim #for implementing optimization algorithms such as Stochastic Gradient Descent (SGD)"
   ]
  },
  {
   "cell_type": "code",
   "execution_count": null,
   "metadata": {},
   "outputs": [],
   "source": []
  }
 ],
 "metadata": {
  "kernelspec": {
   "display_name": "Deep_Learning",
   "language": "python",
   "name": "python3"
  },
  "language_info": {
   "codemirror_mode": {
    "name": "ipython",
    "version": 3
   },
   "file_extension": ".py",
   "mimetype": "text/x-python",
   "name": "python",
   "nbconvert_exporter": "python",
   "pygments_lexer": "ipython3",
   "version": "3.11.5"
  }
 },
 "nbformat": 4,
 "nbformat_minor": 2
}
